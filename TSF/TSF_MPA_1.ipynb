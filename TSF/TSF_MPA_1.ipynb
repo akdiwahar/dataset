{
  "nbformat": 4,
  "nbformat_minor": 0,
  "metadata": {
    "colab": {
      "provenance": []
    },
    "kernelspec": {
      "name": "python3",
      "display_name": "Python 3"
    },
    "language_info": {
      "name": "python"
    }
  },
  "cells": [
    {
      "cell_type": "markdown",
      "source": [
        "\n",
        "Case study: US daily Covid 19 data"
      ],
      "metadata": {
        "id": "PxDLoM7wcZg8"
      }
    },
    {
      "cell_type": "markdown",
      "metadata": {
        "id": "aHKW06iTbvcI"
      },
      "source": [
        "## Importing required libraries"
      ]
    },
    {
      "cell_type": "code",
      "execution_count": null,
      "metadata": {
        "id": "r0vrKr0wbvcJ"
      },
      "outputs": [],
      "source": [
        "import pandas                             as      pd\n",
        "import numpy                              as      np\n",
        "import matplotlib.pyplot                  as      plt\n",
        "import seaborn                            as      sns\n",
        "from   IPython.display                    import  display\n",
        "from   pylab                              import  rcParams \n",
        "from   datetime                           import  datetime, timedelta\n",
        "from statsmodels.tsa.stattools            import  adfuller\n",
        "from statsmodels.tsa.stattools            import  pacf\n",
        "from statsmodels.tsa.stattools            import  acf\n",
        "from statsmodels.graphics.tsaplots        import  plot_pacf\n",
        "from statsmodels.graphics.tsaplots        import  plot_acf\n",
        "from statsmodels.graphics.gofplots        import  qqplot\n",
        "from statsmodels.tsa.seasonal             import  seasonal_decompose\n",
        "from statsmodels.tsa.arima_model          import  ARIMA\n",
        "from statsmodels.tsa.statespace.sarimax   import  SARIMAX\n",
        "from statsmodels.tsa.api                  import  ExponentialSmoothing\n",
        "import warnings\n",
        "warnings.filterwarnings('ignore')\n",
        "%matplotlib inline"
      ]
    },
    {
      "cell_type": "markdown",
      "metadata": {
        "id": "wtIAeKf1bvcO"
      },
      "source": [
        "## Import the data"
      ]
    },
    {
      "cell_type": "markdown",
      "metadata": {
        "id": "gxKUHa3ebvcT"
      },
      "source": [
        "### Data is collected for the period of 17th March 2020 to 06th December 2020. Data is collected on daily basis for Positive cases, Hospitalized and Death count"
      ]
    },
    {
      "cell_type": "markdown",
      "metadata": {
        "id": "6Ecl7ThybvcU"
      },
      "source": [
        "### Convert the data into time series data"
      ]
    },
    {
      "cell_type": "markdown",
      "metadata": {
        "id": "DdCeQhombvcg"
      },
      "source": [
        "### For this case study, we will build time series model to forecast the Hospitalized count"
      ]
    },
    {
      "cell_type": "markdown",
      "metadata": {
        "id": "f_wrTmdabvch"
      },
      "source": [
        "### Plot the variable 'hospitalized'"
      ]
    },
    {
      "cell_type": "markdown",
      "metadata": {
        "id": "nXiMKV7Gbvcl"
      },
      "source": [
        "Check for Null values"
      ]
    },
    {
      "cell_type": "markdown",
      "metadata": {
        "id": "hPbtpce_bvco"
      },
      "source": [
        "## Perform Exploratory Data Analysis"
      ]
    },
    {
      "cell_type": "markdown",
      "metadata": {
        "id": "vKNOdHbKbvcs"
      },
      "source": [
        "### Plot monthwise distribution"
      ]
    },
    {
      "cell_type": "markdown",
      "metadata": {
        "id": "hEJeCNVqbvcu"
      },
      "source": [
        "## Decompose the time series"
      ]
    },
    {
      "cell_type": "markdown",
      "metadata": {
        "id": "yycn_pKWbvcx"
      },
      "source": [
        "## Check for stationarity in the data"
      ]
    },
    {
      "cell_type": "markdown",
      "metadata": {
        "id": "JWKyW-aBbvcz"
      },
      "source": [
        "## Let's plot rolling mean and std deviation"
      ]
    },
    {
      "cell_type": "markdown",
      "metadata": {
        "id": "DKH1tWSXbvc3"
      },
      "source": [
        "## Perform statistical test to confirm the stationarity"
      ]
    },
    {
      "cell_type": "markdown",
      "metadata": {
        "id": "YAFeNDCbbvc4"
      },
      "source": [
        "## Plot the ACF and PACF plots for the series"
      ]
    },
    {
      "cell_type": "markdown",
      "metadata": {
        "id": "muHKtyRnbvc7"
      },
      "source": [
        "## Split the series into training and testing sets"
      ]
    },
    {
      "cell_type": "markdown",
      "metadata": {
        "id": "cW6JPsqubvdF"
      },
      "source": [
        "## Model Selection"
      ]
    },
    {
      "cell_type": "markdown",
      "metadata": {
        "id": "hzguAfsYbvdG"
      },
      "source": [
        "### We will build the Holt forecasting model and Holt-Winter forecasting model."
      ]
    },
    {
      "cell_type": "markdown",
      "source": [
        "### Plot the model predictions and find the RMSE and MAPE value. "
      ],
      "metadata": {
        "id": "cglEUH9ydrZp"
      }
    },
    {
      "cell_type": "markdown",
      "source": [
        "### Calculate and plot the residuals."
      ],
      "metadata": {
        "id": "j2Hf53e7d7YK"
      }
    }
  ]
}